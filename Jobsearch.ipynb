{
 "cells": [
  {
   "cell_type": "code",
   "execution_count": 1,
   "metadata": {},
   "outputs": [
    {
     "name": "stdout",
     "output_type": "stream",
     "text": [
      "Requirement already satisfied: bs4 in c:\\users\\user\\anaconda3\\lib\\site-packages (0.0.1)Note: you may need to restart the kernel to use updated packages.\n",
      "Requirement already satisfied: beautifulsoup4 in c:\\users\\user\\anaconda3\\lib\\site-packages (from bs4) (4.9.1)\n",
      "Requirement already satisfied: soupsieve>1.2 in c:\\users\\user\\anaconda3\\lib\\site-packages (from beautifulsoup4->bs4) (2.0.1)\n",
      "\n"
     ]
    },
    {
     "name": "stderr",
     "output_type": "stream",
     "text": [
      "WARNING: You are using pip version 21.1.1; however, version 23.3.2 is available.\n",
      "You should consider upgrading via the 'C:\\Users\\USER\\anaconda3\\python.exe -m pip install --upgrade pip' command.\n"
     ]
    }
   ],
   "source": [
    "pip install bs4"
   ]
  },
  {
   "cell_type": "code",
   "execution_count": 2,
   "metadata": {},
   "outputs": [
    {
     "name": "stdout",
     "output_type": "stream",
     "text": [
      "Requirement already satisfied: requests in c:\\users\\user\\anaconda3\\lib\\site-packages (2.24.0)\n",
      "Requirement already satisfied: certifi>=2017.4.17 in c:\\users\\user\\anaconda3\\lib\\site-packages (from requests) (2020.6.20)\n",
      "Requirement already satisfied: chardet<4,>=3.0.2 in c:\\users\\user\\anaconda3\\lib\\site-packages (from requests) (3.0.4)\n",
      "Requirement already satisfied: urllib3!=1.25.0,!=1.25.1,<1.26,>=1.21.1 in c:\\users\\user\\anaconda3\\lib\\site-packages (from requests) (1.25.9)\n",
      "Requirement already satisfied: idna<3,>=2.5 in c:\\users\\user\\anaconda3\\lib\\site-packages (from requests) (2.10)\n",
      "Note: you may need to restart the kernel to use updated packages.\n"
     ]
    },
    {
     "name": "stderr",
     "output_type": "stream",
     "text": [
      "WARNING: You are using pip version 21.1.1; however, version 23.3.2 is available.\n",
      "You should consider upgrading via the 'C:\\Users\\USER\\anaconda3\\python.exe -m pip install --upgrade pip' command.\n"
     ]
    }
   ],
   "source": [
    "pip install requests"
   ]
  },
  {
   "cell_type": "code",
   "execution_count": 68,
   "metadata": {},
   "outputs": [
    {
     "name": "stdout",
     "output_type": "stream",
     "text": [
      "100\n",
      "CSV file created successfully!\n"
     ]
    }
   ],
   "source": [
    "# import module \n",
    "import requests\n",
    "import pandas as pd\n",
    "from bs4 import BeautifulSoup \n",
    "\n",
    "\n",
    "# user define function \n",
    "# Scrape the data \n",
    "# and get in string \n",
    "def getdata(url): \n",
    "    r = requests.get(url) \n",
    "    return r.text \n",
    "\n",
    "# Get Html code using parse \n",
    "def html_code(url): \n",
    "\n",
    "    # pass the url \n",
    "    # into getdata function \n",
    "    htmldata = getdata(url) \n",
    "    # print (htmldata)\n",
    "    soup = BeautifulSoup(htmldata, 'html.parser')\n",
    "    # print(soup)\n",
    "\n",
    "    # return html code \n",
    "    return(soup) \n",
    "\n",
    "# filter job data using \n",
    "# find_all function \n",
    "def job_data(soup): \n",
    "\n",
    "    # find the Html tag \n",
    "    # with find() \n",
    "    # and convert into string \n",
    "    data_str = \"\" \n",
    "    count = 0\n",
    "    result_1 = \"\"\n",
    "    for item in soup.find_all(\"h2\", class_=\"title is-5\"): \n",
    "        # print(item.get_text())\n",
    "        if count ==0 :\n",
    "            data_str = data_str + item.get_text() \n",
    "        else: \n",
    "            data_str = data_str + \"$\" + item.get_text()\n",
    "        count +=1\n",
    "    result_1 = data_str.split(\"$\") \n",
    "    return(result_1) \n",
    "\n",
    "# filter company_data using \n",
    "# find_all function \n",
    "\n",
    "\n",
    "def company_data(soup): \n",
    "\n",
    "    # find the Html tag \n",
    "    # with find() \n",
    "    # and convert into string \n",
    "    data_str = \"\" \n",
    "    result_1 = \"\" \n",
    "    count = 0\n",
    "        \n",
    "    for item in soup.find_all(\"h3\", class_=\"subtitle is-6 company\"): \n",
    "        if count ==0 :\n",
    "            data_str = data_str + item.get_text() \n",
    "        else:\n",
    "            data_str = data_str + \"$\" + item.get_text()\n",
    "        count +=1\n",
    "    result_1 = data_str.split(\"$\")\n",
    "    return(result_1)\n",
    "\n",
    "    \n",
    "def addr_data(soup): \n",
    "\n",
    "    # find the Html tag \n",
    "    # with find() \n",
    "    # and convert into string \n",
    "    data_str = \"\" \n",
    "    result_1 = \"\" \n",
    "    count = 0 \n",
    "    for item in soup.find_all(\"p\", class_=\"location\"): \n",
    "        temp =\"\"\n",
    "        temp = item.get_text()\n",
    "        temp = temp.strip()\n",
    "        \n",
    "        if count == 0 :   \n",
    "            data_str = temp\n",
    "        else:\n",
    "            data_str = data_str + \"$\" + temp\n",
    "        count +=1\n",
    "    result_1 = data_str.split(\"$\") \n",
    "    return(result_1)\n",
    "    \n",
    "\n",
    "# driver nodes/main function \n",
    "if __name__ == \"__main__\": \n",
    "\n",
    "    # Data for URL \n",
    "    url = \"https://realpython.github.io/fake-jobs/\" \n",
    "\n",
    "    # Pass this URL into the soup \n",
    "    # which will return \n",
    "    # html string \n",
    "    soup = html_code(url) \n",
    "\n",
    "    # call job and company data \n",
    "    # and store into it var \n",
    "    job_res = job_data(soup) \n",
    "    co_res = company_data(soup)\n",
    "    addr_res = addr_data(soup)\n",
    "\n",
    "    \n",
    "    \n",
    "# call job, company and address data\n",
    "    # and store into corresponding variables\n",
    "    job_res = job_data(soup)\n",
    "    co_res = company_data(soup)\n",
    "    addr_res = addr_data(soup)\n",
    "    \n",
    "    job_dict = {'Job':job_res,'Company Name':co_res,'Company Address':addr_res}\n",
    "    df_dict = pd.DataFrame(job_dict)\n",
    "    \n",
    "    filename = \"pmy_scrape.csv\"\n",
    "    with open(filename, \"w\") as my_empty_csv:\n",
    "        df_dict.to_csv(filename,index=False)\n",
    " \n",
    "    print(len(job_res))\n",
    "    \n",
    "            \n",
    "    # Optional: Print a success message\n",
    "    print(\"CSV file created successfully!\")\n"
   ]
  },
  {
   "cell_type": "code",
   "execution_count": null,
   "metadata": {},
   "outputs": [],
   "source": []
  },
  {
   "cell_type": "code",
   "execution_count": null,
   "metadata": {},
   "outputs": [],
   "source": []
  },
  {
   "cell_type": "code",
   "execution_count": null,
   "metadata": {},
   "outputs": [],
   "source": []
  }
 ],
 "metadata": {
  "kernelspec": {
   "display_name": "Python 3",
   "language": "python",
   "name": "python3"
  },
  "language_info": {
   "codemirror_mode": {
    "name": "ipython",
    "version": 3
   },
   "file_extension": ".py",
   "mimetype": "text/x-python",
   "name": "python",
   "nbconvert_exporter": "python",
   "pygments_lexer": "ipython3",
   "version": "3.8.3"
  }
 },
 "nbformat": 4,
 "nbformat_minor": 4
}
